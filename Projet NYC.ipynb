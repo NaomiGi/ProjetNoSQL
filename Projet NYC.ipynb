{
 "cells": [
  {
   "cell_type": "markdown",
   "metadata": {},
   "source": [
    "# Projet NoSQL \n",
    "## Naomi Girard\n",
    "\n",
    "### Choix de la base de données\n",
    "\n",
    "J'ai décidé de travailler avec MongoDB parce qu'il s'agit d'une base de données orientée document. Les documents comprennent des ensembles de clé-valeur. Elle permet de charger très facilement des fichiers JSON. Un élement d'un JSON correspond à un document dans une base Mongo. Mongo n'exige pas de structure pré-définie de ses document et permet donc une grande flexibilité dans les données. \n",
    "\n",
    "Un autre avantage qui a fait basculer mon choix vers MongoDB est sa très bonne compatibilté avec Python via le package \"pymongo\". Il est donc facile de faire un pré-processing sur les données, les charger et exécuter les requêtes via uniquement Python. De plus, je peux combiner python à un notebook rendant l'affichage et la lecture des requêtes plus esthétiques que sur un terminal. \n",
    "\n",
    "\n",
    "### Ma définition du parfait emplacement à New York\n",
    "\n",
    "Pour moi vivre à New York, ne signifie pas vivre à Manhattan en plein Time Square. Je recherche avant tout un endroit proche d'une piscine, ayant pour habitude de nager plusieurs fois par semaine. Il ne faut pas qu'elle soit trop loin, sinon je serais découragée par la distance et n'irai pas. Je cherche également à éviter la malbouffe américaine et veut être à proximité de primeurs/marchés pour avoir accès à de bons produits. \n",
    "De plus, si je peux de temps en temps me rendre dans un restaurant français lorsque le mal du pays se fera ressentir, ça ne rendra l'emplacement que plus parfait. Enfin, l'accès au métro est primordial mais je suis prête à sacrifier un peu de temps de trajet pour me rendre à Manhattan, là où la ville grouille. "
   ]
  },
  {
   "cell_type": "markdown",
   "metadata": {},
   "source": [
    "### Import et connexion au serveur mongo"
   ]
  },
  {
   "cell_type": "code",
   "execution_count": 1,
   "metadata": {
    "collapsed": true
   },
   "outputs": [],
   "source": [
    "import json\n",
    "import os\n",
    "import pymongo\n",
    "import pandas as pd\n",
    "import numpy as np\n",
    "from uszipcode import ZipcodeSearchEngine\n",
    "\n",
    "cnx_string = \"mongodb://localhost:1234\"\n",
    "client = pymongo.MongoClient(cnx_string)"
   ]
  },
  {
   "cell_type": "code",
   "execution_count": 2,
   "metadata": {
    "collapsed": true
   },
   "outputs": [],
   "source": [
    "client.drop_database('nyc')\n",
    "client.database_names()\n",
    "db = client.nyc"
   ]
  },
  {
   "cell_type": "code",
   "execution_count": 3,
   "metadata": {},
   "outputs": [
    {
     "data": {
      "text/plain": [
       "['french', 'subway', 'pools2', 'restaurants', 'pools', 'subway2']"
      ]
     },
     "execution_count": 3,
     "metadata": {},
     "output_type": "execute_result"
    }
   ],
   "source": [
    "db.collection_names()"
   ]
  },
  {
   "cell_type": "markdown",
   "metadata": {},
   "source": [
    "## 1. Piscines\n",
    "\n",
    "### 1.1 Chargement des données dans la base nyc"
   ]
  },
  {
   "cell_type": "code",
   "execution_count": 79,
   "metadata": {
    "collapsed": true
   },
   "outputs": [],
   "source": [
    "def insert_data(path, col):\n",
    "    data = open(path, 'r')\n",
    "    parsed = json.loads(data.read())\n",
    "    for doc in parsed: \n",
    "        db[col].insert_one(doc)"
   ]
  },
  {
   "cell_type": "markdown",
   "metadata": {},
   "source": [
    "### Chargement de la base pools alternative avec un léger pre-processing\n",
    "\n",
    "Les données initiales comportent les coordonnées de chaque piscine sous forme de multipolygon GeoJson. Ce type d'objet est plutôt difficile à manipuler et je n'ai pas besoin d'autant de détails sur les positions des piscines à New York. J'ai donc résumé cette information par un semblant de barycentre du polygone, en prenant la moyenne des latitudes et longitudes. Enfin, la base ne donne pas le code postal qui pourra m'être utile pour le croiser avec d'autres bases de données. J'ai pour cela utilisé une library python \"uszipcode\" qui permet de trouver, entre autres, le code postal relatif à une position géographique.  "
   ]
  },
  {
   "cell_type": "code",
   "execution_count": 24,
   "metadata": {
    "collapsed": true
   },
   "outputs": [],
   "source": [
    "def insert_data_pool(path, col):\n",
    "    data = open(path, 'r')\n",
    "    parsed = json.loads(data.read())\n",
    "    search = ZipcodeSearchEngine()\n",
    "    for doc in parsed: \n",
    "        a = doc['the_geom']['coordinates']\n",
    "        a = sum(sum(a, []), [])\n",
    "        df = pd.DataFrame(a, columns = ['long', 'lat'])\n",
    "        coord = (np.mean(df['lat']), np.mean(df['long']))\n",
    "        doc['zipcode'] = search.by_coordinate(coord[0], coord[1], radius=3, returns= 1)[0][\"Zipcode\"]\n",
    "        #retourne le code postal le plus proche dans un rayon de 3 miles (5 km), par rapport aux coordonnées fournies en paremètres\n",
    "        doc['average_coord'] = coord\n",
    "        db[col].insert_one(doc)"
   ]
  },
  {
   "cell_type": "code",
   "execution_count": 25,
   "metadata": {
    "collapsed": true
   },
   "outputs": [],
   "source": [
    "insert_data_pool(\"pools.json\", \"pools\")"
   ]
  },
  {
   "cell_type": "code",
   "execution_count": 26,
   "metadata": {},
   "outputs": [
    {
     "data": {
      "text/plain": [
       "{'_id': ObjectId('5a7f3f68a4629b27c96eaef5'),\n",
       " 'average_coord': [40.83928337337758, -73.8984379901158],\n",
       " 'borough': 'X',\n",
       " 'councildis': '15',\n",
       " 'gispropnum': 'X010',\n",
       " 'location': 'Outdoor',\n",
       " 'name': 'Crotona Pool',\n",
       " 'objectid': '205',\n",
       " 'pooltype': 'Diving',\n",
       " 'shape_star': '7173.03729248',\n",
       " 'shape_stle': '326.892595219',\n",
       " 'the_geom': {'coordinates': [[[[-73.89854807978361, 40.83945171469163],\n",
       "     [-73.89818724520086, 40.83933438115879],\n",
       "     [-73.89817715050593, 40.83931558074005],\n",
       "     [-73.89818279386012, 40.839302773494],\n",
       "     [-73.89818956243367, 40.839289968141415],\n",
       "     [-73.89819745254967, 40.83927801744655],\n",
       "     [-73.89821773105048, 40.83925582736127],\n",
       "     [-73.89822899302501, 40.83924558787669],\n",
       "     [-73.89824250295007, 40.83923620314201],\n",
       "     [-73.8982560115616, 40.83922767477428],\n",
       "     [-73.89827064408748, 40.83922000016408],\n",
       "     [-73.89828639934072, 40.83921318021037],\n",
       "     [-73.89830215316371, 40.83920806939077],\n",
       "     [-73.89831903102011, 40.839202959559934],\n",
       "     [-73.89833590626341, 40.83919955796135],\n",
       "     [-73.89835277901368, 40.83919701092689],\n",
       "     [-73.8983707756798, 40.83919531854852],\n",
       "     [-73.89840563975649, 40.839195349262816],\n",
       "     [-73.89842363239013, 40.83919707334676],\n",
       "     [-73.89844162123126, 40.83920050566162],\n",
       "     [-73.8984584860371, 40.839203937884534],\n",
       "     [-73.89847422420463, 40.83920907554939],\n",
       "     [-73.89848995751362, 40.8392150677766],\n",
       "     [-73.8985056929593, 40.839222770041495],\n",
       "     [-73.8985203008181, 40.83923046951119],\n",
       "     [-73.8985337833391, 40.83923902345831],\n",
       "     [-73.89854614052518, 40.839248430082264],\n",
       "     [-73.89855737237771, 40.83925868848291],\n",
       "     [-73.8985674765211, 40.839269801359976],\n",
       "     [-73.89857645532929, 40.83928176691484],\n",
       "     [-73.89858431010335, 40.839293731480666],\n",
       "     [-73.89859103835444, 40.83930654962423],\n",
       "     [-73.89859551734685, 40.83931936578988],\n",
       "     [-73.8985988734901, 40.839332180067686],\n",
       "     [-73.89860110073408, 40.83934584972271],\n",
       "     [-73.89860220512901, 40.83935951658951],\n",
       "     [-73.89860106037675, 40.83937232781081],\n",
       "     [-73.89859879146975, 40.839385991712014],\n",
       "     [-73.89859539626816, 40.83939880005417],\n",
       "     [-73.89859087690766, 40.83941246287707],\n",
       "     [-73.89858411088586, 40.83942441458691],\n",
       "     [-73.89857621963628, 40.83943636530687],\n",
       "     [-73.89854807978361, 40.83945171469163]]]],\n",
       "  'type': 'MultiPolygon'},\n",
       " 'zipcode': '10457'}"
      ]
     },
     "execution_count": 26,
     "metadata": {},
     "output_type": "execute_result"
    }
   ],
   "source": [
    "db.pools.find_one()"
   ]
  },
  {
   "cell_type": "markdown",
   "metadata": {},
   "source": [
    "### 1.2 Requêtes"
   ]
  },
  {
   "cell_type": "markdown",
   "metadata": {},
   "source": [
    "On vient d'ajouter une base \"pools\" cataloguant les piscines de NYC. Visiblement il en existe de différents types:\n"
   ]
  },
  {
   "cell_type": "code",
   "execution_count": 27,
   "metadata": {},
   "outputs": [
    {
     "name": "stdout",
     "output_type": "stream",
     "text": [
      "[{'_id': 'Mini'},\n",
      " {'_id': 'Diving'},\n",
      " {'_id': 'Wading'},\n",
      " {'_id': 'Intermediate'},\n",
      " {'_id': 'Olympic'}]\n"
     ]
    }
   ],
   "source": [
    "pipeline = [{\"$group\" : {\"_id\": \"$pooltype\"}}]\n",
    "import pprint\n",
    "pprint.pprint(list(db.pools.aggregate(pipeline)))"
   ]
  },
  {
   "cell_type": "markdown",
   "metadata": {},
   "source": [
    "Seulement les piscines de type \"Intermediate\" et \"Olympic\" m'interessent pour la suite. "
   ]
  },
  {
   "cell_type": "code",
   "execution_count": 113,
   "metadata": {},
   "outputs": [
    {
     "name": "stdout",
     "output_type": "stream",
     "text": [
      "[{'_id': ObjectId('5a7f3f68a4629b27c96eaef6'),\n",
      "  'average_coord': [40.81143738049233,\n",
      "                    -73.91413763379475],\n",
      "  'borough': 'X',\n",
      "  'councildis': '17',\n",
      "  'gispropnum': 'X045',\n",
      "  'location': 'Indoor',\n",
      "  'name': 'St. '\n",
      "          \"Mary's \"\n",
      "          'Pool',\n",
      "  'objectid': '206',\n",
      "  'pooltype': 'Intermediate',\n",
      "  'shape_star': '2807.98722839',\n",
      "  'shape_stle': '221.999701843',\n",
      "  'zipcode': '10455'},\n",
      " {'_id': ObjectId('5a7f3f68a4629b27c96eaef7'),\n",
      "  'average_coord': [40.687281611315214,\n",
      "                    -73.76954835782503],\n",
      "  'borough': 'Q',\n",
      "  'councildis': '27',\n",
      "  'gispropnum': 'Q448',\n",
      "  'location': 'Indoor',\n",
      "  'name': 'Roy '\n",
      "          'Wilkins '\n",
      "          'Pool',\n",
      "  'objectid': '207',\n",
      "  'pooltype': 'Intermediate',\n",
      "  'shape_star': '2249.99740601',\n",
      "  'shape_stle': '209.999708732',\n",
      "  'zipcode': '11434'},\n",
      " {'_id': ObjectId('5a7f3f68a4629b27c96eaefd'),\n",
      "  'average_coord': [40.73617475654855,\n",
      "                    -73.9756943885272],\n",
      "  'borough': 'M',\n",
      "  'councildis': '4',\n",
      "  'gispropnum': 'M164',\n",
      "  'location': 'Indoor',\n",
      "  'name': 'Asser '\n",
      "          'Levy '\n",
      "          'Pool',\n",
      "  'objectid': '213',\n",
      "  'pooltype': 'Intermediate',\n",
      "  'shape_star': '1715.8069458',\n",
      "  'shape_stle': '183.992783106',\n",
      "  'zipcode': '10010'},\n",
      " {'_id': ObjectId('5a7f3f68a4629b27c96eaf08'),\n",
      "  'average_coord': [40.81292702399813,\n",
      "                    -73.93943143526413],\n",
      "  'borough': 'M',\n",
      "  'councildis': '9',\n",
      "  'gispropnum': 'M131',\n",
      "  'location': 'Indoor',\n",
      "  'name': 'Hansborough '\n",
      "          'Pool',\n",
      "  'objectid': '223',\n",
      "  'pooltype': 'Intermediate',\n",
      "  'shape_star': '2624.9984436',\n",
      "  'shape_stle': '219.999988843',\n",
      "  'zipcode': '10037'},\n",
      " {'_id': ObjectId('5a7f3f68a4629b27c96eaf09'),\n",
      "  'average_coord': [40.75651925100309,\n",
      "                    -73.96513197491782],\n",
      "  'borough': 'M',\n",
      "  'councildis': '5',\n",
      "  'gispropnum': 'M130',\n",
      "  'location': 'Indoor',\n",
      "  'name': 'Recreation '\n",
      "          'Center '\n",
      "          '54 '\n",
      "          'Pool',\n",
      "  'objectid': '224',\n",
      "  'pooltype': 'Intermediate',\n",
      "  'shape_star': '2700.19371033',\n",
      "  'shape_stle': '208.007430419',\n",
      "  'zipcode': '10022'},\n",
      " {'_id': ObjectId('5a7f3f68a4629b27c96eaf0b'),\n",
      "  'average_coord': [40.771481649464604,\n",
      "                    -73.98881377040144],\n",
      "  'borough': 'M',\n",
      "  'councildis': '6',\n",
      "  'gispropnum': 'M063',\n",
      "  'location': 'Indoor',\n",
      "  'name': 'Gertrude '\n",
      "          'Ederle '\n",
      "          'Pool',\n",
      "  'objectid': '226',\n",
      "  'pooltype': 'Intermediate',\n",
      "  'shape_star': '2083.42388916',\n",
      "  'shape_stle': '189.347582971',\n",
      "  'zipcode': '10019'},\n",
      " {'_id': ObjectId('5a7f3f68a4629b27c96eaf0c'),\n",
      "  'average_coord': [40.715004406305276,\n",
      "                    -73.96032485875921],\n",
      "  'borough': 'B',\n",
      "  'councildis': '34',\n",
      "  'gispropnum': 'B085',\n",
      "  'location': 'Indoor',\n",
      "  'name': 'Metropolitan '\n",
      "          'Pool',\n",
      "  'objectid': '227',\n",
      "  'pooltype': 'Intermediate',\n",
      "  'shape_star': '2712.4080658',\n",
      "  'shape_stle': '221.162826891',\n",
      "  'zipcode': '11211'},\n",
      " {'_id': ObjectId('5a7f3f68a4629b27c96eaf12'),\n",
      "  'average_coord': [40.74830302120729,\n",
      "                    -74.00207015836875],\n",
      "  'borough': 'M',\n",
      "  'councildis': '3',\n",
      "  'gispropnum': 'M260',\n",
      "  'location': 'Indoor',\n",
      "  'name': 'Chelsea '\n",
      "          'Pool',\n",
      "  'objectid': '233',\n",
      "  'pooltype': 'Intermediate',\n",
      "  'shape_star': '2675.05961609',\n",
      "  'shape_stle': '208.164983772',\n",
      "  'zipcode': '10199'},\n",
      " {'_id': ObjectId('5a7f3f68a4629b27c96eaf13'),\n",
      "  'average_coord': [40.756466052865825,\n",
      "                    -73.96516562348259],\n",
      "  'borough': 'M',\n",
      "  'councildis': '5',\n",
      "  'gispropnum': 'M130',\n",
      "  'location': 'Indoor',\n",
      "  'name': 'Recreation '\n",
      "          'Center '\n",
      "          '59 '\n",
      "          'Pool',\n",
      "  'objectid': '234',\n",
      "  'pooltype': 'Intermediate',\n",
      "  'shape_star': '2700.00413513',\n",
      "  'shape_stle': '208.000174708',\n",
      "  'zipcode': '10022'},\n",
      " {'_id': ObjectId('5a7f3f68a4629b27c96eaf14'),\n",
      "  'average_coord': [40.751998501603666,\n",
      "                    -73.83797051415763],\n",
      "  'borough': 'Q',\n",
      "  'councildis': '21',\n",
      "  'gispropnum': 'Q099',\n",
      "  'location': 'Indoor',\n",
      "  'name': 'Flushing '\n",
      "          'Meadows '\n",
      "          'Corona '\n",
      "          'Park '\n",
      "          'Pool '\n",
      "          '& '\n",
      "          'Rink',\n",
      "  'objectid': '235',\n",
      "  'pooltype': 'Olympic',\n",
      "  'shape_star': '13447.9808807',\n",
      "  'shape_stle': '491.99980164',\n",
      "  'zipcode': '11368'},\n",
      " {'_id': ObjectId('5a7f3f68a4629b27c96eaf2f'),\n",
      "  'average_coord': [40.72963891248883,\n",
      "                    -74.0054324334895],\n",
      "  'borough': 'M',\n",
      "  'councildis': '3',\n",
      "  'gispropnum': 'M103',\n",
      "  'location': 'Indoor',\n",
      "  'name': 'Tony '\n",
      "          'Dapolito '\n",
      "          'Pool',\n",
      "  'objectid': '263',\n",
      "  'pooltype': 'Intermediate',\n",
      "  'shape_star': '2881.46697998',\n",
      "  'shape_stle': '268.648651473',\n",
      "  'zipcode': '10012'},\n",
      " {'_id': ObjectId('5a7f3f68a4629b27c96eaf3e'),\n",
      "  'average_coord': [40.656284742389005,\n",
      "                    -73.90273309218583],\n",
      "  'borough': 'B',\n",
      "  'councildis': '42',\n",
      "  'gispropnum': 'B270',\n",
      "  'location': 'Indoor',\n",
      "  'name': 'Brownsville '\n",
      "          'Pool',\n",
      "  'objectid': '279',\n",
      "  'pooltype': 'Intermediate',\n",
      "  'shape_star': '2250.27983093',\n",
      "  'shape_stle': '210.008957272',\n",
      "  'zipcode': '11212'},\n",
      " {'_id': ObjectId('5a7f3f68a4629b27c96eaf3f'),\n",
      "  'average_coord': [40.673964805386845,\n",
      "                    -73.93489890988796],\n",
      "  'borough': 'B',\n",
      "  'councildis': '36',\n",
      "  'gispropnum': 'B245',\n",
      "  'location': 'Indoor',\n",
      "  'name': 'St '\n",
      "          \"John's \"\n",
      "          'Pool',\n",
      "  'objectid': '280',\n",
      "  'pooltype': 'Intermediate',\n",
      "  'shape_star': '3150.00556946',\n",
      "  'shape_stle': '234.000021671',\n",
      "  'zipcode': '11213'},\n",
      " {'_id': ObjectId('5a809480a4629b16115abd14'),\n",
      "  'average_coord': [40.81143738049233,\n",
      "                    -73.91413763379475],\n",
      "  'borough': 'X',\n",
      "  'councildis': '17',\n",
      "  'gispropnum': 'X045',\n",
      "  'location': 'Indoor',\n",
      "  'name': 'St. '\n",
      "          \"Mary's \"\n",
      "          'Pool',\n",
      "  'objectid': '206',\n",
      "  'pooltype': 'Intermediate',\n",
      "  'shape_star': '2807.98722839',\n",
      "  'shape_stle': '221.999701843',\n",
      "  'zipcode': '10455'},\n",
      " {'_id': ObjectId('5a809480a4629b16115abd15'),\n",
      "  'average_coord': [40.687281611315214,\n",
      "                    -73.76954835782503],\n",
      "  'borough': 'Q',\n",
      "  'councildis': '27',\n",
      "  'gispropnum': 'Q448',\n",
      "  'location': 'Indoor',\n",
      "  'name': 'Roy '\n",
      "          'Wilkins '\n",
      "          'Pool',\n",
      "  'objectid': '207',\n",
      "  'pooltype': 'Intermediate',\n",
      "  'shape_star': '2249.99740601',\n",
      "  'shape_stle': '209.999708732',\n",
      "  'zipcode': '11434'},\n",
      " {'_id': ObjectId('5a809480a4629b16115abd1b'),\n",
      "  'average_coord': [40.73617475654855,\n",
      "                    -73.9756943885272],\n",
      "  'borough': 'M',\n",
      "  'councildis': '4',\n",
      "  'gispropnum': 'M164',\n",
      "  'location': 'Indoor',\n",
      "  'name': 'Asser '\n",
      "          'Levy '\n",
      "          'Pool',\n",
      "  'objectid': '213',\n",
      "  'pooltype': 'Intermediate',\n",
      "  'shape_star': '1715.8069458',\n",
      "  'shape_stle': '183.992783106',\n",
      "  'zipcode': '10010'},\n",
      " {'_id': ObjectId('5a809480a4629b16115abd26'),\n",
      "  'average_coord': [40.81292702399813,\n",
      "                    -73.93943143526413],\n",
      "  'borough': 'M',\n",
      "  'councildis': '9',\n",
      "  'gispropnum': 'M131',\n",
      "  'location': 'Indoor',\n",
      "  'name': 'Hansborough '\n",
      "          'Pool',\n",
      "  'objectid': '223',\n",
      "  'pooltype': 'Intermediate',\n",
      "  'shape_star': '2624.9984436',\n",
      "  'shape_stle': '219.999988843',\n",
      "  'zipcode': '10037'},\n",
      " {'_id': ObjectId('5a809480a4629b16115abd27'),\n",
      "  'average_coord': [40.75651925100309,\n",
      "                    -73.96513197491782],\n",
      "  'borough': 'M',\n",
      "  'councildis': '5',\n",
      "  'gispropnum': 'M130',\n",
      "  'location': 'Indoor',\n",
      "  'name': 'Recreation '\n",
      "          'Center '\n",
      "          '54 '\n",
      "          'Pool',\n",
      "  'objectid': '224',\n",
      "  'pooltype': 'Intermediate',\n",
      "  'shape_star': '2700.19371033',\n",
      "  'shape_stle': '208.007430419',\n",
      "  'zipcode': '10022'},\n",
      " {'_id': ObjectId('5a809480a4629b16115abd29'),\n",
      "  'average_coord': [40.771481649464604,\n",
      "                    -73.98881377040144],\n",
      "  'borough': 'M',\n",
      "  'councildis': '6',\n",
      "  'gispropnum': 'M063',\n",
      "  'location': 'Indoor',\n",
      "  'name': 'Gertrude '\n",
      "          'Ederle '\n",
      "          'Pool',\n",
      "  'objectid': '226',\n",
      "  'pooltype': 'Intermediate',\n",
      "  'shape_star': '2083.42388916',\n",
      "  'shape_stle': '189.347582971',\n",
      "  'zipcode': '10019'},\n",
      " {'_id': ObjectId('5a809480a4629b16115abd2a'),\n",
      "  'average_coord': [40.715004406305276,\n",
      "                    -73.96032485875921],\n",
      "  'borough': 'B',\n",
      "  'councildis': '34',\n",
      "  'gispropnum': 'B085',\n",
      "  'location': 'Indoor',\n",
      "  'name': 'Metropolitan '\n",
      "          'Pool',\n",
      "  'objectid': '227',\n",
      "  'pooltype': 'Intermediate',\n",
      "  'shape_star': '2712.4080658',\n",
      "  'shape_stle': '221.162826891',\n",
      "  'zipcode': '11211'},\n",
      " {'_id': ObjectId('5a809480a4629b16115abd30'),\n",
      "  'average_coord': [40.74830302120729,\n",
      "                    -74.00207015836875],\n",
      "  'borough': 'M',\n",
      "  'councildis': '3',\n",
      "  'gispropnum': 'M260',\n",
      "  'location': 'Indoor',\n",
      "  'name': 'Chelsea '\n",
      "          'Pool',\n",
      "  'objectid': '233',\n",
      "  'pooltype': 'Intermediate',\n",
      "  'shape_star': '2675.05961609',\n",
      "  'shape_stle': '208.164983772',\n",
      "  'zipcode': '10199'},\n",
      " {'_id': ObjectId('5a809480a4629b16115abd31'),\n",
      "  'average_coord': [40.756466052865825,\n",
      "                    -73.96516562348259],\n",
      "  'borough': 'M',\n",
      "  'councildis': '5',\n",
      "  'gispropnum': 'M130',\n",
      "  'location': 'Indoor',\n",
      "  'name': 'Recreation '\n",
      "          'Center '\n",
      "          '59 '\n",
      "          'Pool',\n",
      "  'objectid': '234',\n",
      "  'pooltype': 'Intermediate',\n",
      "  'shape_star': '2700.00413513',\n",
      "  'shape_stle': '208.000174708',\n",
      "  'zipcode': '10022'},\n",
      " {'_id': ObjectId('5a809480a4629b16115abd32'),\n",
      "  'average_coord': [40.751998501603666,\n",
      "                    -73.83797051415763],\n",
      "  'borough': 'Q',\n",
      "  'councildis': '21',\n",
      "  'gispropnum': 'Q099',\n",
      "  'location': 'Indoor',\n",
      "  'name': 'Flushing '\n",
      "          'Meadows '\n",
      "          'Corona '\n",
      "          'Park '\n",
      "          'Pool '\n",
      "          '& '\n",
      "          'Rink',\n",
      "  'objectid': '235',\n",
      "  'pooltype': 'Olympic',\n",
      "  'shape_star': '13447.9808807',\n",
      "  'shape_stle': '491.99980164',\n",
      "  'zipcode': '11368'},\n",
      " {'_id': ObjectId('5a809480a4629b16115abd4d'),\n",
      "  'average_coord': [40.72963891248883,\n",
      "                    -74.0054324334895],\n",
      "  'borough': 'M',\n",
      "  'councildis': '3',\n",
      "  'gispropnum': 'M103',\n",
      "  'location': 'Indoor',\n",
      "  'name': 'Tony '\n",
      "          'Dapolito '\n",
      "          'Pool',\n",
      "  'objectid': '263',\n",
      "  'pooltype': 'Intermediate',\n",
      "  'shape_star': '2881.46697998',\n",
      "  'shape_stle': '268.648651473',\n",
      "  'zipcode': '10012'},\n",
      " {'_id': ObjectId('5a809480a4629b16115abd5c'),\n",
      "  'average_coord': [40.656284742389005,\n",
      "                    -73.90273309218583],\n",
      "  'borough': 'B',\n",
      "  'councildis': '42',\n",
      "  'gispropnum': 'B270',\n",
      "  'location': 'Indoor',\n",
      "  'name': 'Brownsville '\n",
      "          'Pool',\n",
      "  'objectid': '279',\n",
      "  'pooltype': 'Intermediate',\n",
      "  'shape_star': '2250.27983093',\n",
      "  'shape_stle': '210.008957272',\n",
      "  'zipcode': '11212'},\n",
      " {'_id': ObjectId('5a809480a4629b16115abd5d'),\n",
      "  'average_coord': [40.673964805386845,\n",
      "                    -73.93489890988796],\n",
      "  'borough': 'B',\n",
      "  'councildis': '36',\n",
      "  'gispropnum': 'B245',\n",
      "  'location': 'Indoor',\n",
      "  'name': 'St '\n",
      "          \"John's \"\n",
      "          'Pool',\n",
      "  'objectid': '280',\n",
      "  'pooltype': 'Intermediate',\n",
      "  'shape_star': '3150.00556946',\n",
      "  'shape_stle': '234.000021671',\n",
      "  'zipcode': '11213'}]\n"
     ]
    }
   ],
   "source": [
    "pprint.pprint(list(\n",
    "    db.pools.find({\"$and\": [{\"location\" : \"Indoor\"},   \n",
    "                            {\"$or\" : [\n",
    "                                    {\"pooltype\" : \"Intermediate\"}, {\"pooltype\" : \"Olympic\"}\n",
    "                            ]}]}\n",
    "        ,{\"the_geom\":0})\n",
    "), width = 1)"
   ]
  },
  {
   "cell_type": "markdown",
   "metadata": {},
   "source": [
    "Pour faire un premier tri sur les quartiers contenant le plus de piscines, je cherche le nombre de piscines Intermediate ou Olympic (pour les piscines intérieures) par quartier par ordre décroissant : \n"
   ]
  },
  {
   "cell_type": "code",
   "execution_count": 29,
   "metadata": {},
   "outputs": [
    {
     "name": "stdout",
     "output_type": "stream",
     "text": [
      "[{'_id': 'M', 'total': 14},\n",
      " {'_id': 'B', 'total': 6},\n",
      " {'_id': 'Q', 'total': 4},\n",
      " {'_id': 'X', 'total': 2}]\n"
     ]
    }
   ],
   "source": [
    "pipeline = [{\"$match\":{\"$and\": [{\"location\" : \"Indoor\"},   \n",
    "                            {\"$or\" : [\n",
    "                                    {\"pooltype\" : \"Intermediate\"}, {\"pooltype\" : \"Olympic\"}\n",
    "                            ]}]}},\n",
    "    {\"$group\": {\"_id\" : \"$borough\", \"total\": {\"$sum\":1}}},\n",
    "    {\"$sort\": {\"total\":-1}}]\n",
    "pprint.pprint(list(db.pools.aggregate(pipeline)))"
   ]
  },
  {
   "cell_type": "markdown",
   "metadata": {},
   "source": [
    "J'aimerais affiner cet affichage en ajoutant le nombre de piscine Intermediate ou Olympic par quartier : "
   ]
  },
  {
   "cell_type": "code",
   "execution_count": 114,
   "metadata": {},
   "outputs": [
    {
     "name": "stdout",
     "output_type": "stream",
     "text": [
      "[{'_id': 'B',\n",
      "  'ptype': [{'count pooltype per borough': 6,\n",
      "             'pooltype': 'Intermediate'}],\n",
      "  'total pools per borough': 6},\n",
      " {'_id': 'M',\n",
      "  'ptype': [{'count pooltype per borough': 14,\n",
      "             'pooltype': 'Intermediate'}],\n",
      "  'total pools per borough': 14},\n",
      " {'_id': 'X',\n",
      "  'ptype': [{'count pooltype per borough': 2,\n",
      "             'pooltype': 'Intermediate'}],\n",
      "  'total pools per borough': 2},\n",
      " {'_id': 'Q',\n",
      "  'ptype': [{'count pooltype per borough': 2,\n",
      "             'pooltype': 'Olympic'},\n",
      "            {'count pooltype per borough': 2,\n",
      "             'pooltype': 'Intermediate'}],\n",
      "  'total pools per borough': 4}]\n"
     ]
    }
   ],
   "source": [
    "pipeline = [{\"$match\":{\"$and\": [{\"location\" : \"Indoor\"},   \n",
    "                            {\"$or\" : [\n",
    "                                    {\"pooltype\" : \"Intermediate\"}, {\"pooltype\" : \"Olympic\"}\n",
    "                            ]}]}},\n",
    "{\"$group\": {\n",
    "    \"_id\": {\"borough\": \"$borough\", \"pooltype\": \"$pooltype\"},\n",
    "    \"poolcount\": {\"$sum\":1}}},\n",
    "    {\"$group\" : {\"_id\" : \"$_id.borough\", \n",
    "        \"ptype\" : { \"$push\": {\n",
    "            \"pooltype\" : \"$_id.pooltype\",\n",
    "            \"count pooltype per borough\" : \"$poolcount\"\n",
    "            }},\n",
    "           \"total pools per borough\": {\"$sum\": \"$poolcount\"} }}]\n",
    "pprint.pprint(list(db.pools.aggregate(pipeline)), width = 1)"
   ]
  },
  {
   "cell_type": "markdown",
   "metadata": {},
   "source": [
    "Je ferai mon choix entre Manhattan et Brooklyn. L'objectif serait pour moi d'affiner ma recherche vers un code postal. Aux Etats-Unis, un code postal représente une zone assez réduite et me donnera une idée assez précise de l'endroit où je souhaite vivre à New York. Ainsi, je regarde quels sont les codes postaux de Manhattan et Brooklyn ayant au moins une piscine : "
   ]
  },
  {
   "cell_type": "code",
   "execution_count": 115,
   "metadata": {},
   "outputs": [
    {
     "name": "stdout",
     "output_type": "stream",
     "text": [
      "[{'_id': {'borough': 'M',\n",
      "          'zipcode': '10022'},\n",
      "  'poolcount': 4},\n",
      " {'_id': {'borough': 'B',\n",
      "          'zipcode': '11212'},\n",
      "  'poolcount': 2},\n",
      " {'_id': {'borough': 'M',\n",
      "          'zipcode': '10012'},\n",
      "  'poolcount': 2},\n",
      " {'_id': {'borough': 'B',\n",
      "          'zipcode': '11211'},\n",
      "  'poolcount': 2},\n",
      " {'_id': {'borough': 'M',\n",
      "          'zipcode': '10037'},\n",
      "  'poolcount': 2},\n",
      " {'_id': {'borough': 'M',\n",
      "          'zipcode': '10010'},\n",
      "  'poolcount': 2},\n",
      " {'_id': {'borough': 'B',\n",
      "          'zipcode': '11213'},\n",
      "  'poolcount': 2},\n",
      " {'_id': {'borough': 'M',\n",
      "          'zipcode': '10199'},\n",
      "  'poolcount': 2},\n",
      " {'_id': {'borough': 'M',\n",
      "          'zipcode': '10019'},\n",
      "  'poolcount': 2}]\n"
     ]
    }
   ],
   "source": [
    "pipeline = [{\"$match\":{\"$and\": [{\"location\" : \"Indoor\"},   \n",
    "                            {\"$or\" : [\n",
    "                                    {\"pooltype\" : \"Intermediate\"}, {\"pooltype\" : \"Olympic\"}]},\n",
    "                               {\"$or\" : [\n",
    "                                    {\"borough\" : \"M\"}, {\"borough\" : \"B\"}]}]}},\n",
    "{\"$group\": {\n",
    "    \"_id\": {\"borough\": \"$borough\", \"zipcode\": \"$zipcode\"},\n",
    "    \"poolcount\": {\"$sum\":1}}},\n",
    "           {\"$sort\": {\"poolcount\":-1}}]\n",
    "pprint.pprint(list(db.pools.aggregate(pipeline)), width = 1)"
   ]
  },
  {
   "cell_type": "markdown",
   "metadata": {},
   "source": [
    "A première vue, le code postal 10022 à Manhattan serait le plus optimal puisque j'aurais le choix entre 4 piscines. Une me suffirait déjà beaucoup je ne vais donc pas m'arrêter ici et je récupère dans une liste les codes postaux, ils m'aideront à affiner mon choix avec les autres critères."
   ]
  },
  {
   "cell_type": "code",
   "execution_count": 34,
   "metadata": {
    "collapsed": true
   },
   "outputs": [],
   "source": [
    "reszip = list(db.pools.aggregate(pipeline))\n",
    "zipb = []\n",
    "zipm = []\n",
    "for elem in reszip : \n",
    "    if elem['_id']['borough'] == \"B\": \n",
    "        zipb.append(elem['_id']['zipcode'])\n",
    "    else : \n",
    "        zipm.append(elem['_id']['zipcode'])"
   ]
  },
  {
   "cell_type": "markdown",
   "metadata": {},
   "source": [
    "## 2. Farmer Markets\n",
    "\n",
    "Un autre critère essentiel pour moi est la facilité à faire ses courses. Les américains sont connus pour leur malbouffe, j'aimerais y échapper et avoir à proximité un marché/primeur."
   ]
  },
  {
   "cell_type": "markdown",
   "metadata": {},
   "source": [
    "### 2.1 Chargement des données en base"
   ]
  },
  {
   "cell_type": "code",
   "execution_count": 116,
   "metadata": {},
   "outputs": [
    {
     "name": "stdout",
     "output_type": "stream",
     "text": [
      "{'_id': ObjectId('5a809ab4a4629b16115abd79'), 'facilityaddinfo': \"Spend $5 in EBT and get a $2 Health Buck coupon.<br><br><b>Program Website:</b> <a  href=''http://www.grownyc.org/youthmarket'' target=''_blank''>http://www.grownyc.org/youthmarket</a>\", 'facilitycity': 'Bronx', 'facilityname': 'Riverdale Youthmarket', 'facilitystate': 'NY', 'facilitystreetname': '256th St & Mosholu Ave', 'facilityzipcode': '10471', 'latitude': '41', 'longitude': '-74'}\n"
     ]
    }
   ],
   "source": [
    "json_markets = open(\"markets.json\", 'r')\n",
    "parsed_markets = json.loads(json_markets.read())\n",
    "\n",
    "for item in parsed_markets:\n",
    "    db.markets.insert_one(item)\n",
    "\n",
    "print(db.markets.find_one())"
   ]
  },
  {
   "cell_type": "code",
   "execution_count": 10,
   "metadata": {},
   "outputs": [
    {
     "name": "stdout",
     "output_type": "stream",
     "text": [
      "[{'_id': 'Manhattan', 'total': 36},\n",
      " {'_id': 'Brooklyn', 'total': 34},\n",
      " {'_id': 'Bronx', 'total': 18},\n",
      " {'_id': 'Queens', 'total': 12},\n",
      " {'_id': None, 'total': 1},\n",
      " {'_id': 'Staten Island', 'total': 1}]\n"
     ]
    }
   ],
   "source": [
    "pipeline = [\n",
    "    {\"$group\": {\"_id\" : \"$facilitycity\", \"total\": {\"$sum\":1}}},\n",
    "    {\"$sort\": {\"total\":-1}}\n",
    "]\n",
    "pprint.pprint(list(db.markets.aggregate(pipeline)))"
   ]
  },
  {
   "cell_type": "markdown",
   "metadata": {},
   "source": [
    "Encore une fois, je retiens Manhattan et Brooklyn qui ont de loin le plus de farmer markets. "
   ]
  },
  {
   "cell_type": "markdown",
   "metadata": {},
   "source": [
    "Requete qui retourne le nombre de farmers markets par quartier et par code postal, triée par quartier et ensuite par zipcode. \n",
    "\n",
    "(Le total par quartier ne correspond pas à celui de la requête précendente, je suppose que l'information du zipcode est parfois manquante)"
   ]
  },
  {
   "cell_type": "code",
   "execution_count": 118,
   "metadata": {},
   "outputs": [
    {
     "name": "stdout",
     "output_type": "stream",
     "text": [
      "[{'_id': {'borough': 'Manhattan'},\n",
      "  'total per borough': 26,\n",
      "  'total per zipcode': [{'per_zipcode': 6,\n",
      "                         'zipcode': '10029'},\n",
      "                        {'per_zipcode': 4,\n",
      "                         'zipcode': '10026'},\n",
      "                        {'per_zipcode': 4,\n",
      "                         'zipcode': '10003'},\n",
      "                        {'per_zipcode': 4,\n",
      "                         'zipcode': '10011'},\n",
      "                        {'per_zipcode': 4,\n",
      "                         'zipcode': '10019'},\n",
      "                        {'per_zipcode': 4,\n",
      "                         'zipcode': '10031'},\n",
      "                        {'per_zipcode': 4,\n",
      "                         'zipcode': '10004'},\n",
      "                        {'per_zipcode': 4,\n",
      "                         'zipcode': '10009'},\n",
      "                        {'per_zipcode': 4,\n",
      "                         'zipcode': '10027'},\n",
      "                        {'per_zipcode': 2,\n",
      "                         'zipcode': '10282'},\n",
      "                        {'per_zipcode': 2,\n",
      "                         'zipcode': '10018'},\n",
      "                        {'per_zipcode': 2,\n",
      "                         'zipcode': '10028'},\n",
      "                        {'per_zipcode': 2,\n",
      "                         'zipcode': '10017'},\n",
      "                        {'per_zipcode': 2,\n",
      "                         'zipcode': '10007'},\n",
      "                        {'per_zipcode': 2,\n",
      "                         'zipcode': '10128'},\n",
      "                        {'per_zipcode': 2,\n",
      "                         'zipcode': '10023'},\n",
      "                        {'per_zipcode': 2,\n",
      "                         'zipcode': '10032'},\n",
      "                        {'per_zipcode': 2,\n",
      "                         'zipcode': '10024'},\n",
      "                        {'per_zipcode': 2,\n",
      "                         'zipcode': '10037'},\n",
      "                        {'per_zipcode': 2,\n",
      "                         'zipcode': '10014'},\n",
      "                        {'per_zipcode': 2,\n",
      "                         'zipcode': '10039'},\n",
      "                        {'per_zipcode': 2,\n",
      "                         'zipcode': '10006'},\n",
      "                        {'per_zipcode': 2,\n",
      "                         'zipcode': '10035'},\n",
      "                        {'per_zipcode': 2,\n",
      "                         'zipcode': '10034'},\n",
      "                        {'per_zipcode': 2,\n",
      "                         'zipcode': '10025'},\n",
      "                        {'per_zipcode': 2,\n",
      "                         'zipcode': '10033'}]},\n",
      " {'_id': {'borough': 'Brooklyn'},\n",
      "  'total per borough': 20,\n",
      "  'total per zipcode': [{'per_zipcode': 8,\n",
      "                         'zipcode': '11207'},\n",
      "                        {'per_zipcode': 8,\n",
      "                         'zipcode': '11216'},\n",
      "                        {'per_zipcode': 6,\n",
      "                         'zipcode': '11215'},\n",
      "                        {'per_zipcode': 6,\n",
      "                         'zipcode': '11212'},\n",
      "                        {'per_zipcode': 4,\n",
      "                         'zipcode': '11206'},\n",
      "                        {'per_zipcode': 4,\n",
      "                         'zipcode': '11203'},\n",
      "                        {'per_zipcode': 4,\n",
      "                         'zipcode': '11233'},\n",
      "                        {'per_zipcode': 4,\n",
      "                         'zipcode': '11201'},\n",
      "                        {'per_zipcode': 2,\n",
      "                         'zipcode': '11219'},\n",
      "                        {'per_zipcode': 2,\n",
      "                         'zipcode': '11237'},\n",
      "                        {'per_zipcode': 2,\n",
      "                         'zipcode': '11226'},\n",
      "                        {'per_zipcode': 2,\n",
      "                         'zipcode': '11214'},\n",
      "                        {'per_zipcode': 2,\n",
      "                         'zipcode': '11209'},\n",
      "                        {'per_zipcode': 2,\n",
      "                         'zipcode': '11218'},\n",
      "                        {'per_zipcode': 2,\n",
      "                         'zipcode': '11208'},\n",
      "                        {'per_zipcode': 2,\n",
      "                         'zipcode': '11222'},\n",
      "                        {'per_zipcode': 2,\n",
      "                         'zipcode': '11225'},\n",
      "                        {'per_zipcode': 2,\n",
      "                         'zipcode': '11220'},\n",
      "                        {'per_zipcode': 2,\n",
      "                         'zipcode': '11231'},\n",
      "                        {'per_zipcode': 2,\n",
      "                         'zipcode': '11205'}]}]\n"
     ]
    }
   ],
   "source": [
    "pipeline = [\n",
    "    {\"$match\":{\"$or\" : [\n",
    "    {\"facilitycity\" : \"Manhattan\"}, {\"facilitycity\" : \"Brooklyn\"}\n",
    "    ]}},\n",
    "    {\"$group\": {\"_id\" : {\"borough\": \"$facilitycity\", \"zipcode\" : \"$facilityzipcode\"}, \n",
    "                \"count\": {\"$sum\":1}}},\n",
    "    {\"$group\" : {\"_id\" : \"$_id.borough\", \n",
    "        \"zipcode2\" : { \"$push\": {\n",
    "            \"zipcode\" : \"$_id.zipcode\",\n",
    "            \"per_zipcode\" : \"$count\"\n",
    "            }},\n",
    "           \"total markets per borough\": {\"$sum\": \"$count\"}}},\n",
    "    {\"$unwind\": \"$zipcode2\"},\n",
    "    {\"$sort\" : {\"total markets per borough\": -1, \"zipcode2.per_zipcode\": -1}},\n",
    "    {\"$group\": {\"_id\" : {\"borough\": \"$_id\"}, \"total per borough\": {\"$sum\":1},\"total per zipcode\": {\"$push\": \"$zipcode2\"}}},\n",
    "    {\"$sort\": {\"total per borough\": -1}}\n",
    "]\n",
    "pprint.pprint(list(db.markets.aggregate(pipeline)), width = 1)"
   ]
  },
  {
   "cell_type": "markdown",
   "metadata": {},
   "source": [
    "## Restaurants\n",
    "\n",
    "Autre critère essentiel, les restaurants. La base de données trouvée sur le site OpenDataNYC est très lourde j'ai donc fait un léger filtre sur le site avant de l'exporter (en ne gardant que les quartiers de Manhattan et Brooklyn). "
   ]
  },
  {
   "cell_type": "code",
   "execution_count": null,
   "metadata": {
    "collapsed": true
   },
   "outputs": [],
   "source": [
    "def insert_data_resto(path, col):\n",
    "    db[col].drop()\n",
    "    json_data = open(path, 'r')\n",
    "    parsed = json.loads(json_data.read())\n",
    "    for doc in parsed['data']:\n",
    "        k = {}\n",
    "        k['CAMIS'] = doc[8]\n",
    "        k['name'] = doc[9]\n",
    "        k['borough'] = doc[10]\n",
    "        k['building'] = doc[11]\n",
    "        k['street'] = doc[12]\n",
    "        k['zipcode'] = doc[13]\n",
    "        k['cuisine_description'] = doc[14]\n",
    "        db[col].insert_one(k)\n",
    "    del json_data\n",
    "    del parsed"
   ]
  },
  {
   "cell_type": "markdown",
   "metadata": {},
   "source": [
    "L'import de la base peut prendre un peu de temps (environ une minute sur ma machine)!"
   ]
  },
  {
   "cell_type": "code",
   "execution_count": null,
   "metadata": {
    "collapsed": true
   },
   "outputs": [],
   "source": [
    "from time import time\n",
    "st = time()\n",
    "insert_data_resto(\"resto.json\", \"resto\")\n",
    "en = time()\n",
    "print('exec time', en-st)"
   ]
  },
  {
   "cell_type": "code",
   "execution_count": 11,
   "metadata": {},
   "outputs": [
    {
     "data": {
      "text/plain": [
       "{'CAMIS': '41453657',\n",
       " '_id': ObjectId('5a808dbda4629b161157e996'),\n",
       " 'borough': 'MANHATTAN',\n",
       " 'building': '250',\n",
       " 'cuisine_description': 'Sandwiches',\n",
       " 'name': 'SUBWAY',\n",
       " 'street': 'BROADWAY',\n",
       " 'zipcode': '10007'}"
      ]
     },
     "execution_count": 11,
     "metadata": {},
     "output_type": "execute_result"
    }
   ],
   "source": [
    "db.resto.find_one()"
   ]
  },
  {
   "cell_type": "code",
   "execution_count": 13,
   "metadata": {},
   "outputs": [
    {
     "name": "stdout",
     "output_type": "stream",
     "text": [
      "[{'_id': 'Czech'}, {'_id': 'Chilean'}, {'_id': 'Filipino'}, {'_id': 'Egyptian'}, {'_id': 'Portuguese'}, {'_id': 'Hotdogs/Pretzels'}, {'_id': 'Hotdogs'}, {'_id': 'Pancakes/Waffles'}, {'_id': 'Southwestern'}, {'_id': 'Brazilian'}, {'_id': 'Cajun'}, {'_id': 'Pakistani'}, {'_id': 'Chinese/Cuban'}, {'_id': 'Middle Eastern'}, {'_id': 'Armenian'}, {'_id': 'English'}, {'_id': 'Soul Food'}, {'_id': 'Peruvian'}, {'_id': 'Soups & Sandwiches'}, {'_id': 'Ethiopian'}, {'_id': 'Eastern European'}, {'_id': 'Moroccan'}, {'_id': 'Vegetarian'}, {'_id': 'Korean'}, {'_id': 'Pizza'}, {'_id': 'Chinese/Japanese'}, {'_id': 'Tapas'}, {'_id': 'Nuts/Confectionary'}, {'_id': 'CafÃ©/Coffee/Tea'}, {'_id': 'Juice, Smoothies, Fruit Salads'}, {'_id': 'Steak'}, {'_id': 'Sandwiches/Salads/Mixed Buffet'}, {'_id': 'Basque'}, {'_id': 'Ice Cream, Gelato, Yogurt, Ices'}, {'_id': 'Italian'}, {'_id': 'Caribbean'}, {'_id': 'Thai'}, {'_id': 'Jewish/Kosher'}, {'_id': 'Pizza/Italian'}, {'_id': 'Sandwiches'}, {'_id': 'Asian'}, {'_id': 'Californian'}, {'_id': 'Latin (Cuban, Dominican, Puerto Rican, South & Central American)'}, {'_id': 'Polynesian'}, {'_id': 'Chinese'}, {'_id': 'Scandinavian'}, {'_id': 'Hamburgers'}, {'_id': 'Continental'}, {'_id': 'Iranian'}, {'_id': 'Chicken'}, {'_id': 'Bagels/Pretzels'}, {'_id': 'Spanish'}, {'_id': 'Irish'}, {'_id': 'Greek'}, {'_id': 'Japanese'}, {'_id': 'Mexican'}, {'_id': 'French'}, {'_id': 'Other'}, {'_id': 'Soups'}, {'_id': 'Donuts'}, {'_id': 'Salads'}, {'_id': 'Mediterranean'}, {'_id': 'Polish'}, {'_id': 'Bakery'}, {'_id': 'Seafood'}, {'_id': 'Bottled beverages, including water, sodas, juices, etc.'}, {'_id': 'Australian'}, {'_id': 'Indian'}, {'_id': 'Tex-Mex'}, {'_id': 'Bangladeshi'}, {'_id': 'Turkish'}, {'_id': 'Hawaiian'}, {'_id': 'Vietnamese/Cambodian/Malaysia'}, {'_id': 'Barbecue'}, {'_id': 'German'}, {'_id': 'Delicatessen'}, {'_id': 'Not Listed/Not Applicable'}, {'_id': 'Creole/Cajun'}, {'_id': 'Russian'}, {'_id': 'Fruits/Vegetables'}, {'_id': 'Indonesian'}, {'_id': 'Creole'}]\n"
     ]
    }
   ],
   "source": [
    "pipeline = [{\"$group\" : {\"_id\": \"$cuisine_description\"}}]\n",
    "print(list(db.resto.aggregate(pipeline)))"
   ]
  },
  {
   "cell_type": "markdown",
   "metadata": {},
   "source": [
    "New york est connu pour sa diversité, en voici une preuve avec tous les types de cuisines disposibles. \n",
    "Pour faciliter la lecture des requêtes suivantes et mon choix je vais éliminer quelques types de cuisines. J'ai choisi d'afficher les types de cuisines ayant au moins 2500 restaurants à New York."
   ]
  },
  {
   "cell_type": "code",
   "execution_count": 18,
   "metadata": {},
   "outputs": [
    {
     "name": "stdout",
     "output_type": "stream",
     "text": [
      "[{'_id': 'Chinese', 'total': 22839},\n",
      " {'_id': 'CafÃ©/Coffee/Tea', 'total': 13231},\n",
      " {'_id': 'Italian', 'total': 12693},\n",
      " {'_id': 'Japanese', 'total': 11174},\n",
      " {'_id': 'Pizza', 'total': 10000},\n",
      " {'_id': 'Mexican', 'total': 9394},\n",
      " {'_id': 'Latin (Cuban, Dominican, Puerto Rican, South & Central American)',\n",
      "  'total': 7511},\n",
      " {'_id': 'Caribbean', 'total': 7470},\n",
      " {'_id': 'Bakery', 'total': 6775},\n",
      " {'_id': 'Spanish', 'total': 4758},\n",
      " {'_id': 'French', 'total': 4625},\n",
      " {'_id': 'Pizza/Italian', 'total': 4392},\n",
      " {'_id': 'Jewish/Kosher', 'total': 4275},\n",
      " {'_id': 'Indian', 'total': 3886},\n",
      " {'_id': 'Asian', 'total': 3759},\n",
      " {'_id': 'Thai', 'total': 3715},\n",
      " {'_id': 'Delicatessen', 'total': 3705},\n",
      " {'_id': 'Chicken', 'total': 3308},\n",
      " {'_id': 'Mediterranean', 'total': 2849},\n",
      " {'_id': 'Sandwiches', 'total': 2838},\n",
      " {'_id': 'Hamburgers', 'total': 2822},\n",
      " {'_id': 'Donuts', 'total': 2655}]\n"
     ]
    }
   ],
   "source": [
    "import pprint\n",
    "pipeline = [\n",
    "    {\"$group\": {\"_id\" : \"$cuisine_description\", \"total\": {\"$sum\":1}}},\n",
    "    { \"$match\" : { \"total\" : { \"$gt\": 2500 } } },\n",
    "    {\"$sort\": {\"total\":-1}}\n",
    "]\n",
    "pprint.pprint(list(db.resto.aggregate(pipeline)))"
   ]
  },
  {
   "cell_type": "markdown",
   "metadata": {},
   "source": [
    "Je voudrais être relativement proche d'un restaurant français, lorsque le mal du pays se fera sentir. \n",
    "Je veux ainsi regarder les codes postaux ayant des piscines et des restaurants français. "
   ]
  },
  {
   "cell_type": "code",
   "execution_count": 38,
   "metadata": {},
   "outputs": [
    {
     "name": "stdout",
     "output_type": "stream",
     "text": [
      "[{'_id': {'borough': 'BROOKLYN', 'zipcode': '11211'}, 'total': 129}]\n"
     ]
    }
   ],
   "source": [
    "pipeline = [\n",
    "    { \"$match\" : { \"cuisine_description\" : \"French\", \"zipcode\": {\"$in\": zipb+zipb}} },\n",
    "    {\"$group\": {\"_id\" : {\"borough\": \"$borough\", \"zipcode\": \"$zipcode\"}, \n",
    "                \"total\": {\"$sum\":1}}},\n",
    "    {\"$sort\": {\"total\":-1}}\n",
    "]\n",
    "pprint.pprint(list(db.resto.aggregate(pipeline)))"
   ]
  },
  {
   "cell_type": "markdown",
   "metadata": {},
   "source": [
    "Et en plus, c'est un quartier riche en restaurants et pas que français : "
   ]
  },
  {
   "cell_type": "code",
   "execution_count": 120,
   "metadata": {},
   "outputs": [
    {
     "name": "stdout",
     "output_type": "stream",
     "text": [
      "[{'_id': {'cuisine_description': 'CafÃ©/Coffee/Tea'}, 'total': 351},\n",
      " {'_id': {'cuisine_description': 'Latin (Cuban, Dominican, Puerto Rican, South '\n",
      "                                 '& Central American)'},\n",
      "  'total': 282},\n",
      " {'_id': {'cuisine_description': 'Pizza'}, 'total': 255},\n",
      " {'_id': {'cuisine_description': 'Jewish/Kosher'}, 'total': 249},\n",
      " {'_id': {'cuisine_description': 'Chinese'}, 'total': 237},\n",
      " {'_id': {'cuisine_description': 'Japanese'}, 'total': 182},\n",
      " {'_id': {'cuisine_description': 'Mexican'}, 'total': 182},\n",
      " {'_id': {'cuisine_description': 'Italian'}, 'total': 164},\n",
      " {'_id': {'cuisine_description': 'French'}, 'total': 129},\n",
      " {'_id': {'cuisine_description': 'Bakery'}, 'total': 123},\n",
      " {'_id': {'cuisine_description': 'Thai'}, 'total': 104},\n",
      " {'_id': {'cuisine_description': 'Vegetarian'}, 'total': 88},\n",
      " {'_id': {'cuisine_description': 'Pizza/Italian'}, 'total': 84},\n",
      " {'_id': {'cuisine_description': 'Tex-Mex'}, 'total': 80},\n",
      " {'_id': {'cuisine_description': 'Indian'}, 'total': 76},\n",
      " {'_id': {'cuisine_description': 'Spanish'}, 'total': 67},\n",
      " {'_id': {'cuisine_description': 'Brazilian'}, 'total': 64},\n",
      " {'_id': {'cuisine_description': 'Middle Eastern'}, 'total': 60},\n",
      " {'_id': {'cuisine_description': 'Sandwiches'}, 'total': 51},\n",
      " {'_id': {'cuisine_description': 'Korean'}, 'total': 49},\n",
      " {'_id': {'cuisine_description': 'Caribbean'}, 'total': 43},\n",
      " {'_id': {'cuisine_description': 'Donuts'}, 'total': 41},\n",
      " {'_id': {'cuisine_description': 'Juice, Smoothies, Fruit Salads'},\n",
      "  'total': 38},\n",
      " {'_id': {'cuisine_description': 'Vietnamese/Cambodian/Malaysia'}, 'total': 36},\n",
      " {'_id': {'cuisine_description': 'Bagels/Pretzels'}, 'total': 36},\n",
      " {'_id': {'cuisine_description': 'Asian'}, 'total': 35},\n",
      " {'_id': {'cuisine_description': 'Tapas'}, 'total': 33},\n",
      " {'_id': {'cuisine_description': 'Mediterranean'}, 'total': 30},\n",
      " {'_id': {'cuisine_description': 'Bottled beverages, including water, sodas, '\n",
      "                                 'juices, etc.'},\n",
      "  'total': 29},\n",
      " {'_id': {'cuisine_description': 'Steak'}, 'total': 29},\n",
      " {'_id': {'cuisine_description': 'Sandwiches/Salads/Mixed Buffet'},\n",
      "  'total': 28},\n",
      " {'_id': {'cuisine_description': 'Other'}, 'total': 27},\n",
      " {'_id': {'cuisine_description': 'Chinese/Cuban'}, 'total': 26},\n",
      " {'_id': {'cuisine_description': 'Hamburgers'}, 'total': 24},\n",
      " {'_id': {'cuisine_description': 'Chicken'}, 'total': 21},\n",
      " {'_id': {'cuisine_description': 'Hawaiian'}, 'total': 20},\n",
      " {'_id': {'cuisine_description': 'Irish'}, 'total': 18},\n",
      " {'_id': {'cuisine_description': 'Delicatessen'}, 'total': 17},\n",
      " {'_id': {'cuisine_description': 'Russian'}, 'total': 17},\n",
      " {'_id': {'cuisine_description': 'Barbecue'}, 'total': 14},\n",
      " {'_id': {'cuisine_description': 'Soul Food'}, 'total': 12},\n",
      " {'_id': {'cuisine_description': 'Ice Cream, Gelato, Yogurt, Ices'},\n",
      "  'total': 12},\n",
      " {'_id': {'cuisine_description': 'German'}, 'total': 11},\n",
      " {'_id': {'cuisine_description': 'Eastern European'}, 'total': 9},\n",
      " {'_id': {'cuisine_description': 'Greek'}, 'total': 8},\n",
      " {'_id': {'cuisine_description': 'Continental'}, 'total': 8},\n",
      " {'_id': {'cuisine_description': 'Peruvian'}, 'total': 5},\n",
      " {'_id': {'cuisine_description': 'Seafood'}, 'total': 5}]\n"
     ]
    }
   ],
   "source": [
    "pipeline = [\n",
    "    { \"$match\" : {\"zipcode\": \"11211\" }},\n",
    "    {\"$group\": {\"_id\" : {\"cuisine_description\": \"$cuisine_description\"}, \n",
    "                \"total\": {\"$sum\":1}}},\n",
    "    {\"$sort\": {\"total\":-1}}\n",
    "]\n",
    "pprint.pprint(list(db.resto.aggregate(pipeline)))"
   ]
  },
  {
   "cell_type": "markdown",
   "metadata": {},
   "source": [
    "Je veux maintenant verifier si des farmer markets sont relativement proches de ce code postal:"
   ]
  },
  {
   "cell_type": "code",
   "execution_count": 47,
   "metadata": {},
   "outputs": [
    {
     "data": {
      "text/plain": [
       "[]"
      ]
     },
     "execution_count": 47,
     "metadata": {},
     "output_type": "execute_result"
    }
   ],
   "source": [
    "list(db.markets.find({\"facilityzipcode\": '11211'}))"
   ]
  },
  {
   "cell_type": "markdown",
   "metadata": {},
   "source": [
    "Etant donné qu'il n'y a aucun primeur dans ce zipcode, je vais essayer de voir si il y en a dans les codes postaux à proximité. J'utilise pour cela le package python \"uszipcode\". J'y fais une recherche pour ce code postal, et conserve les coordonnées. Je fais ensuite une seconde recherche pour avoir des codes postaux avoisinant ces coordonées dans un rayon de 3miles (environ 5 kms)."
   ]
  },
  {
   "cell_type": "code",
   "execution_count": 58,
   "metadata": {},
   "outputs": [
    {
     "data": {
      "text/plain": [
       "['11211', '11206', '11205', '11222', '10002']"
      ]
     },
     "execution_count": 58,
     "metadata": {},
     "output_type": "execute_result"
    }
   ],
   "source": [
    "search = ZipcodeSearchEngine()\n",
    "lat = search.by_zipcode(\"11211\")['Latitude']\n",
    "lon = search.by_zipcode(\"11211\")['Longitude']\n",
    "res = search.by_coordinate(lat, lon, radius = 3)\n",
    "reszip = []\n",
    "for elem in res:\n",
    "    reszip.append(elem[\"Zipcode\"])\n",
    "reszip"
   ]
  },
  {
   "cell_type": "code",
   "execution_count": 60,
   "metadata": {},
   "outputs": [
    {
     "data": {
      "text/plain": [
       "[{'_id': {'zipcode': '11206'}, 'total': 2},\n",
       " {'_id': {'zipcode': '11222'}, 'total': 1},\n",
       " {'_id': {'zipcode': '11205'}, 'total': 1}]"
      ]
     },
     "execution_count": 60,
     "metadata": {},
     "output_type": "execute_result"
    }
   ],
   "source": [
    "pipeline = [\n",
    "    { \"$match\" : { \"facilityzipcode\" : {\"$in\": reszip}} },\n",
    "    {\"$group\": {\"_id\" : {\"zipcode\": \"$facilityzipcode\"}, \n",
    "                \"total\": {\"$sum\":1}}},\n",
    "    {\"$sort\": {\"total\":-1}}\n",
    "]\n",
    "list(db.markets.aggregate(pipeline))"
   ]
  },
  {
   "cell_type": "code",
   "execution_count": 62,
   "metadata": {},
   "outputs": [
    {
     "data": {
      "text/plain": [
       "[{'_id': ObjectId('5a809ab5a4629b16115abd9c'),\n",
       "  'facilityaddinfo': \"Spend $5 in EBT and get a $2 Health Buck coupon.<br><br><b>Program Website:</b> <a  href=''http://http://grahamavenuebid.net/event/farmers-market-returns-to-cook-st-2'' target=''_blank''>http://http://grahamavenuebid.net/event/farmers-market-returns-to-cook-st-2</a>\",\n",
       "  'facilitycity': 'Brooklyn',\n",
       "  'facilityname': \"Graham Avenue Farmers' Market\",\n",
       "  'facilitystate': 'NY',\n",
       "  'facilitystreetname': 'Ave of Puerto Rico',\n",
       "  'facilityzipcode': '11206',\n",
       "  'latitude': '41',\n",
       "  'longitude': '-74'},\n",
       " {'_id': ObjectId('5a809ab5a4629b16115abdbe'),\n",
       "  'facilityaddinfo': \"Spend $5 in EBT and get a $2 Health Buck coupon.<br><br><b>Program Website:</b> <a  href=''http://www.harvesthomefm.org'' target=''_blank''>http://www.harvesthomefm.org</a>\",\n",
       "  'facilitycity': 'Brooklyn',\n",
       "  'facilityname': \"Harvest Home Marcy Park Farmers' Market\",\n",
       "  'facilitystate': 'NY',\n",
       "  'facilitystreetname': 'Myrtle Ave',\n",
       "  'facilityzipcode': '11206',\n",
       "  'latitude': '41',\n",
       "  'longitude': '-74'}]"
      ]
     },
     "execution_count": 62,
     "metadata": {},
     "output_type": "execute_result"
    }
   ],
   "source": [
    "list(db.markets.find({\"facilityzipcode\" : '11206'}))"
   ]
  },
  {
   "cell_type": "markdown",
   "metadata": {},
   "source": [
    "## Subway\n",
    "\n",
    "Ces quartiers présentent l'avantage ou l'inconvénient d'être loin de l'agitation de Manhattan. J'aimerais pouvoir me déplacer facilement en métro. "
   ]
  },
  {
   "cell_type": "code",
   "execution_count": null,
   "metadata": {
    "collapsed": true
   },
   "outputs": [],
   "source": [
    "def insert_data_subway(path, col):\n",
    "    db[col].drop()\n",
    "    json_data = open(path, 'r')\n",
    "    parsed = json.loads(json_data.read())\n",
    "    search = ZipcodeSearchEngine()\n",
    "    for doc in parsed['data']:\n",
    "        k = {}\n",
    "        k['ObjectID'] = doc[8]\n",
    "        k['url'] = doc[9]\n",
    "        k['name'] = doc[10]\n",
    "        geom = doc[11].replace('(', '').replace(')', '').split(' ')\n",
    "        k['zipcode'] = search.by_coordinate(float(geom[2]), float(geom[1]), radius=3, returns= 1)[0][\"Zipcode\"]\n",
    "        k['coord'] = [geom[2], geom[1]]\n",
    "        k['line'] = doc[12]\n",
    "        db[col].insert_one(k)\n",
    "    del json_data\n",
    "    del parsed"
   ]
  },
  {
   "cell_type": "code",
   "execution_count": null,
   "metadata": {
    "collapsed": true
   },
   "outputs": [],
   "source": [
    "insert_data_subway(\"subway.json\", \"subway2\")"
   ]
  },
  {
   "cell_type": "code",
   "execution_count": null,
   "metadata": {
    "collapsed": true
   },
   "outputs": [],
   "source": [
    "db.subway2.find().count()"
   ]
  },
  {
   "cell_type": "code",
   "execution_count": null,
   "metadata": {
    "collapsed": true
   },
   "outputs": [],
   "source": [
    "db.subway2.find_one()"
   ]
  },
  {
   "cell_type": "code",
   "execution_count": 81,
   "metadata": {},
   "outputs": [
    {
     "data": {
      "text/plain": [
       "[{'_id': {'line': 'G'}},\n",
       " {'_id': {'line': 'J-M'}},\n",
       " {'_id': {'line': 'G-L'}},\n",
       " {'_id': {'line': 'J-M-Z'}},\n",
       " {'_id': {'line': 'L'}}]"
      ]
     },
     "execution_count": 81,
     "metadata": {},
     "output_type": "execute_result"
    }
   ],
   "source": [
    "pipeline = [{\"$match\":{\"$or\" : [{\"zipcode\" : \"11206\"}, {\"zipcode\" : \"11211\"}]}},\n",
    "            {\"$group\": {\"_id\" : {\"line\": \"$line\"}}}\n",
    "           ]\n",
    "list(db.subway2.aggregate(pipeline))"
   ]
  },
  {
   "cell_type": "markdown",
   "metadata": {},
   "source": [
    "Malheuresement il ne semblerait pas qu'une ligne soit directe vers l'agitation de Times Square (zone globalement dans le zipcode 10020). Parce qu'on ne peut trouver une localisation parfaite, je préfère sacrifier la facilité de transport vers Manhattan pour un quartier plus calme et correspondand à mes critères sur les piscines, marchés et restaurants."
   ]
  },
  {
   "cell_type": "code",
   "execution_count": 108,
   "metadata": {},
   "outputs": [
    {
     "data": {
      "text/plain": [
       "[{'_id': {'line': 'A-C-E-N-Q-R-GS-1-2-3-7'}},\n",
       " {'_id': {'line': 'N-Q-R'}},\n",
       " {'_id': {'line': 'A-B-C-D-1'}},\n",
       " {'_id': {'line': 'B-D-E'}},\n",
       " {'_id': {'line': '1'}},\n",
       " {'_id': {'line': 'C-E'}}]"
      ]
     },
     "execution_count": 108,
     "metadata": {},
     "output_type": "execute_result"
    }
   ],
   "source": [
    "pipeline = [{\"$match\":{\"$or\" : [{\"zipcode\" : \"10020\"}]}},\n",
    "            {\"$group\": {\"_id\" : {\"line\": \"$line\"}}}\n",
    "           ]\n",
    "list(db.subway2.aggregate(pipeline))"
   ]
  },
  {
   "cell_type": "markdown",
   "metadata": {},
   "source": [
    "## Resultat final\n",
    "\n",
    "A partir de trois critères : piscines, restaurants (français) et marchés/primeurs, mon choix se porte sur deux codes postaux voisins à Brooklyn : 11211 et 11206. Il s'agit finalement du quartier de Williamsbourg à Brooklyn.\n",
    "\n",
    "Pour un peu mieux visualiser ce résultat, je voudrais les représenter sur une carte. Malheuresement, la base de données des marchés n'a pas de coordonnées spatiales précises. Pour faciliter ma visualisation j'ai (un peu) triché et regardé sur GoogleMap où se trouvaient les Graham Avenue Farmer's Market et Harverst Home Marcy Parket Farmer's Market.\n",
    "\n",
    "\n",
    " - Graham Avenue Farmer's Market : 40.704651, -73.942393\n",
    " - Harverst Home Marcy Park Farmer's Market : 40.700190, -73.909556 "
   ]
  },
  {
   "cell_type": "code",
   "execution_count": null,
   "metadata": {
    "collapsed": true
   },
   "outputs": [],
   "source": [
    "import folium\n",
    "from folium.features import CustomIcon\n",
    "\n",
    "icon_pool_url = 'https://cdn3.iconfinder.com/data/icons/hotel-services-facilities-2/256/Swimming_Pool-512.png'\n",
    "icon_market_url = 'https://cdn3.iconfinder.com/data/icons/map-markers-1/512/supermarket-512.png'\n",
    "\n",
    "\n",
    "res_pool = list(db.pools.find({'zipcode' : \"11211\"}))\n",
    "res_market = [{'coord': [40.704651, -73.942393], 'name': \"Graham Avenue Farmer Market\"},\n",
    "             {'coord': [40.700190, -73.909556], 'name': \"Harverst Home Marcy Park Farmer Market\"}]\n",
    "\n",
    "m = folium.Map(location=[40.706150, -73.934228], zoom_start=14)\n",
    "for r in res_pool:\n",
    "    folium.Marker(r['average_coord'], popup=r['name'].replace(\"'\", \"\"), icon=CustomIcon(icon_pool_url)).add_to(m)\n",
    "\n",
    "for r in res_market:\n",
    "    folium.Marker(r['coord'], popup=r['name'], icon=CustomIcon(icon_market_url)).add_to(m)\n",
    "    \n",
    "    \n",
    "m"
   ]
  }
 ],
 "metadata": {
  "kernelspec": {
   "display_name": "Python 3",
   "language": "python",
   "name": "python3"
  },
  "language_info": {
   "codemirror_mode": {
    "name": "ipython",
    "version": 3
   },
   "file_extension": ".py",
   "mimetype": "text/x-python",
   "name": "python",
   "nbconvert_exporter": "python",
   "pygments_lexer": "ipython3",
   "version": "3.6.1"
  }
 },
 "nbformat": 4,
 "nbformat_minor": 2
}
